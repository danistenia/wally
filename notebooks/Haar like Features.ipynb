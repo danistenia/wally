{
 "cells": [
  {
   "cell_type": "code",
   "execution_count": 1,
   "metadata": {},
   "outputs": [
    {
     "name": "stderr",
     "output_type": "stream",
     "text": [
      "[ERROR:0@0.062] global persistence.cpp:512 open Can't open file: 'Haarcascade_frontalface_default.xml' in read mode\n"
     ]
    },
    {
     "ename": "error",
     "evalue": "OpenCV(4.8.0) /Users/runner/work/opencv-python/opencv-python/opencv/modules/objdetect/src/cascadedetect.cpp:1689: error: (-215:Assertion failed) !empty() in function 'detectMultiScale'\n",
     "output_type": "error",
     "traceback": [
      "\u001b[0;31m---------------------------------------------------------------------------\u001b[0m",
      "\u001b[0;31merror\u001b[0m                                     Traceback (most recent call last)",
      "Cell \u001b[0;32mIn[1], line 14\u001b[0m\n\u001b[1;32m     11\u001b[0m haar_cascade \u001b[38;5;241m=\u001b[39m cv2\u001b[38;5;241m.\u001b[39mCascadeClassifier(\u001b[38;5;124m'\u001b[39m\u001b[38;5;124mHaarcascade_frontalface_default.xml\u001b[39m\u001b[38;5;124m'\u001b[39m) \n\u001b[1;32m     13\u001b[0m \u001b[38;5;66;03m# Applying the face detection method on the grayscale image \u001b[39;00m\n\u001b[0;32m---> 14\u001b[0m faces_rect \u001b[38;5;241m=\u001b[39m \u001b[43mhaar_cascade\u001b[49m\u001b[38;5;241;43m.\u001b[39;49m\u001b[43mdetectMultiScale\u001b[49m\u001b[43m(\u001b[49m\u001b[43mgray_img\u001b[49m\u001b[43m,\u001b[49m\u001b[43m \u001b[49m\u001b[38;5;241;43m1.1\u001b[39;49m\u001b[43m,\u001b[49m\u001b[43m \u001b[49m\u001b[38;5;241;43m9\u001b[39;49m\u001b[43m)\u001b[49m \n\u001b[1;32m     16\u001b[0m \u001b[38;5;66;03m# Iterating through rectangles of detected faces \u001b[39;00m\n\u001b[1;32m     17\u001b[0m \u001b[38;5;28;01mfor\u001b[39;00m (x, y, w, h) \u001b[38;5;129;01min\u001b[39;00m faces_rect: \n",
      "\u001b[0;31merror\u001b[0m: OpenCV(4.8.0) /Users/runner/work/opencv-python/opencv-python/opencv/modules/objdetect/src/cascadedetect.cpp:1689: error: (-215:Assertion failed) !empty() in function 'detectMultiScale'\n"
     ]
    }
   ],
   "source": [
    "# Importing OpenCV package \n",
    "import cv2\n",
    "  \n",
    "# Reading the image \n",
    "img = cv2.imread('../data/external/brasil_team.jpg') \n",
    "  \n",
    "# Converting image to grayscale \n",
    "gray_img = cv2.cvtColor(img, cv2.COLOR_BGR2GRAY) \n",
    "  \n",
    "# Loading the required haar-cascade xml classifier file \n",
    "haar_cascade = cv2.CascadeClassifier('Haarcascade_frontalface_default.xml') \n",
    "  \n",
    "# Applying the face detection method on the grayscale image \n",
    "faces_rect = haar_cascade.detectMultiScale(gray_img, 1.1, 9) \n",
    "  \n",
    "# Iterating through rectangles of detected faces \n",
    "for (x, y, w, h) in faces_rect: \n",
    "    cv2.rectangle(img, (x, y), (x+w, y+h), (0, 255, 0), 2) \n",
    "  \n",
    "cv2.imshow('Detected faces', img) \n",
    "  \n",
    "cv2.waitKey(0) "
   ]
  },
  {
   "cell_type": "code",
   "execution_count": null,
   "metadata": {},
   "outputs": [],
   "source": []
  }
 ],
 "metadata": {
  "kernelspec": {
   "display_name": "dany_env",
   "language": "python",
   "name": "python3"
  },
  "language_info": {
   "codemirror_mode": {
    "name": "ipython",
    "version": 3
   },
   "file_extension": ".py",
   "mimetype": "text/x-python",
   "name": "python",
   "nbconvert_exporter": "python",
   "pygments_lexer": "ipython3",
   "version": "3.9.16"
  }
 },
 "nbformat": 4,
 "nbformat_minor": 2
}
